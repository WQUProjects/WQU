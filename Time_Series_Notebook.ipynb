{
  "nbformat": 4,
  "nbformat_minor": 0,
  "metadata": {
    "colab": {
      "provenance": [],
      "authorship_tag": "ABX9TyNOX7S8SUtX02grqIQ2dc7a",
      "include_colab_link": true
    },
    "kernelspec": {
      "name": "python3",
      "display_name": "Python 3"
    },
    "language_info": {
      "name": "python"
    }
  },
  "cells": [
    {
      "cell_type": "markdown",
      "metadata": {
        "id": "view-in-github",
        "colab_type": "text"
      },
      "source": [
        "<a href=\"https://colab.research.google.com/github/mrbundles-GIT/WQU/blob/main/Time_Series_Notebook.ipynb\" target=\"_parent\"><img src=\"https://colab.research.google.com/assets/colab-badge.svg\" alt=\"Open In Colab\"/></a>"
      ]
    },
    {
      "cell_type": "markdown",
      "source": [
        "<font size=\"+3\"><strong>Time Series: Statistical Models</strong></font>"
      ],
      "metadata": {
        "id": "Y4DetC3AeHRn"
      }
    },
    {
      "cell_type": "markdown",
      "source": [
        "# Autoregression\n",
        "\n",
        "Autoregression (AR) is a time series model that uses observations from previous time steps as input to a regression equation to predict the value at the next time step. AR works similarly to **autocorrelation**: in both cases, we're taking data from one part of a set and comparing it to another part. An AR model regresses itself. \n",
        "\n",
        "## Cleaning the Data\n",
        "\n",
        "Just like with linear regression, we'll start by bringing in some tools to help us along the way."
      ],
      "metadata": {
        "id": "FQX-7ES7eJtu"
      }
    },
    {
      "cell_type": "code",
      "execution_count": null,
      "metadata": {
        "id": "UksRBAGFeFbe"
      },
      "outputs": [],
      "source": [
        "import warnings\n",
        "\n",
        "import matplotlib.pyplot as plt\n",
        "import pandas as pd\n",
        "import plotly.express as px\n",
        "from arch import arch_model\n",
        "from IPython.display import YouTubeVideo\n",
        "from pymongo import MongoClient\n",
        "from sklearn.metrics import mean_absolute_error\n",
        "from statsmodels.graphics.tsaplots import plot_acf, plot_pacf\n",
        "from statsmodels.tsa.ar_model import AutoReg\n",
        "\n",
        "warnings.simplefilter(action=\"ignore\", category=FutureWarning)"
      ]
    },
    {
      "cell_type": "markdown",
      "source": [
        "Since we'll be working with the `\"air-quality\"` data again, we need to connect to the server, start our client, and grab the data we need."
      ],
      "metadata": {
        "id": "ZywhU8TEeQPS"
      }
    },
    {
      "cell_type": "code",
      "source": [
        "client = MongoClient(host=\"localhost\", port=27017)\n",
        "db = client[\"air-quality\"]\n",
        "lagos = db[\"lagos\"]"
      ],
      "metadata": {
        "id": "F66n5GXveL-q"
      },
      "execution_count": null,
      "outputs": []
    },
    {
      "cell_type": "markdown",
      "source": [
        "<font size=\"+1\">Practice</font>\n",
        "\n",
        "Just to make sure we're all on the same page, import all those libraries and get your database up and running. Remember that even though all the examples use the Site 3 data from the `lagos` collection, the practice sets should use Site 4 data from the `lagos` collection. Call your database `lagos_prac`."
      ],
      "metadata": {
        "id": "qd7hTOQDeUqR"
      }
    },
    {
      "cell_type": "code",
      "source": [
        "lagos_prac = ..."
      ],
      "metadata": {
        "id": "86p_g5WheYFl"
      },
      "execution_count": null,
      "outputs": []
    },
    {
      "cell_type": "markdown",
      "source": [
        "In order to get our data into a form we can use to build our model, we're going to need to transform it in several key ways. The first thing we need to do is to get the data we need, and save the results in a DataFrame. Since we're interested in predicting the changes in air quality over time, let's set the DataFrame's index to `\"timestamp\"`:"
      ],
      "metadata": {
        "id": "KC7ZRb2ueZud"
      }
    },
    {
      "cell_type": "code",
      "source": [
        "results = lagos.find(\n",
        "    # Note that the `3` refers to Site 3.\n",
        "    {\"metadata.site\": 3, \"metadata.measurement\": \"P2\"},\n",
        "    projection={\"P2\": 1, \"timestamp\": 1, \"_id\": 0},\n",
        ")\n",
        "df = pd.DataFrame(list(results)).set_index(\"timestamp\")"
      ],
      "metadata": {
        "id": "diIj3mj0ecod"
      },
      "execution_count": null,
      "outputs": []
    },
    {
      "cell_type": "markdown",
      "source": [
        "<font size=\"+1\">Practice</font>\n",
        "\n",
        "Try it yourself! Create a list called `results_prac` that pulls data from Site 4 in the `lagos` data, then save it in a DataFrame called `df_prac` with the index `\"timestamp\"`."
      ],
      "metadata": {
        "id": "0IzWIPrDefhN"
      }
    },
    {
      "cell_type": "code",
      "source": [],
      "metadata": {
        "id": "eCtvTJy2egm1"
      },
      "execution_count": null,
      "outputs": []
    },
    {
      "cell_type": "markdown",
      "source": [
        "## Localizing the Timezone\n",
        "\n",
        "Because MongoDB stores all timestamps in `UTC`, we need to figure out a way to localize it. Having timestamps in UTC might be useful if we were trying to predict some kind of global trend, but since we're only interested in what's happening with the air in Lagos, we need to change the data from UTC to `Africa/Lagos`. Happily, pandas has a pair of tools to help us out: [`tz_localize`](https://pandas.pydata.org/docs/reference/api/pandas.Series.tz_localize.html) and [`tz_convert`](https://pandas.pydata.org/docs/reference/api/pandas.Series.tz_convert.html). We use those methods to transform our data like this:"
      ],
      "metadata": {
        "id": "_TEwOlihehox"
      }
    },
    {
      "cell_type": "code",
      "source": [
        "df.index = df.index.tz_localize(\"UTC\").tz_convert(\"Africa/Lagos\")"
      ],
      "metadata": {
        "id": "GwlNzQisejr1"
      },
      "execution_count": null,
      "outputs": []
    },
    {
      "cell_type": "markdown",
      "source": [
        "## Resampling Data\n",
        "\n",
        "The most important kind of data in our time-series model is the data that deals with time. Our `\"timestamp\"` data tells us when each reading was taken, but in order to create a good predictive model, we need the readings to happen at regular intervals. Our data doesn't do that, so we need to figure out a way to change it so that it does. The [`resample`](https://pandas.pydata.org/docs/reference/api/pandas.DataFrame.resample.html) method does that for us. \n",
        "\n",
        "Let's resample our data to create 1-hour reading intervals by aggregating using the mean:"
      ],
      "metadata": {
        "id": "x1zVxBNAelnZ"
      }
    },
    {
      "cell_type": "code",
      "source": [
        "# `\"1H\"` represents our one-hour window\n",
        "df = df[\"P2\"].resample(\"1H\").mean().fillna(method=\"ffill\").to_frame()"
      ],
      "metadata": {
        "id": "QSZH8O24ennB"
      },
      "execution_count": null,
      "outputs": []
    },
    {
      "cell_type": "markdown",
      "source": [
        "Notice the second half of the code:\n",
        "\n",
        "```python\n",
        "fillna(method=\"ffill\").to_frame()\n",
        "```\n",
        "\n",
        "That tells the model to **forward-fill** any empty cells with **imputed** data. Forward-filling means that the model should start imputing data based on the closest cell that actually has data in it. This helps to keep the imputed data in line with the rest of the dataset. \n",
        "\n",
        "## Adding a Lag\n",
        "\n",
        "We've spent some time elsewhere thinking about how two sets of data — apartment price and location, for example — compare to *each other*, but we haven't had any reason to consider how a dataset might compare to *itself*. If we're predicting the future, we want to know how good our prediction will be, so it might be useful to build some of that accountability into our model. To do that, we need to add a **lag**.\n",
        "\n",
        "Lagging data means that we're adding a delay. In this case, we're going to allow the model to test itself out by comparing its predictions with what actually happened an hour before. If the prediction and the reality are close, then it's a good model; if they aren't, then the model isn't a very good one.\n",
        "\n",
        "So, let's add a one-hour lag to our dataset: "
      ],
      "metadata": {
        "id": "AAw-MjffepYe"
      }
    },
    {
      "cell_type": "code",
      "source": [
        "# In `shift(1), the `1` is the lagged interval.\n",
        "df[\"P2.L1\"] = df[\"P2\"].shift(1)"
      ],
      "metadata": {
        "id": "9RAl2zjrewlR"
      },
      "execution_count": null,
      "outputs": []
    },
    {
      "cell_type": "markdown",
      "source": [
        "Finally, let's drop our null values:"
      ],
      "metadata": {
        "id": "FsBiEzVZeydF"
      }
    },
    {
      "cell_type": "code",
      "source": [
        "df.dropna(inplace=True)\n",
        "y = df[\"P2\"].resample(\"1H\").mean().fillna(method=\"ffill\")"
      ],
      "metadata": {
        "id": "3OP-VD7ye1VG"
      },
      "execution_count": null,
      "outputs": []
    },
    {
      "cell_type": "markdown",
      "source": [
        "<font size=\"+1\">Practice</font>\n",
        "\n",
        "Try it yourself! Clean the Site 2 data from `lagos`, and save it as a Series called `y_prac`."
      ],
      "metadata": {
        "id": "dfSjNRjOe0he"
      }
    },
    {
      "cell_type": "code",
      "source": [
        "df_prac.index = ...\n",
        "df_prac = ...\n",
        "df_prac[\"P2.L1\"] = ...\n",
        "\n",
        "\n",
        "y_prac = ..."
      ],
      "metadata": {
        "id": "XdzmpNi_e6m6"
      },
      "execution_count": null,
      "outputs": []
    },
    {
      "cell_type": "markdown",
      "source": [
        "## Exploring the Data"
      ],
      "metadata": {
        "id": "NhkJsdx3e84C"
      }
    },
    {
      "cell_type": "markdown",
      "source": [
        "### Time Series Line Plot"
      ],
      "metadata": {
        "id": "YDJmKhcVfAxi"
      }
    },
    {
      "cell_type": "markdown",
      "source": [
        "Example of "
      ],
      "metadata": {
        "id": "7VaBlqdNfCpv"
      }
    },
    {
      "cell_type": "markdown",
      "source": [
        "### Creating an ACF Plot\n",
        "\n",
        "Let's make an ACF plot using our `y` Series."
      ],
      "metadata": {
        "id": "RTpsYNYIfEr9"
      }
    },
    {
      "cell_type": "code",
      "source": [
        "fig1, ax = plt.subplots(figsize=(15, 6))\n",
        "# This is where to include your Series\n",
        "\n",
        "plt.xlabel(\"Lag [hours]\")\n",
        "plt.ylabel(\"Correlation Coefficient\");"
      ],
      "metadata": {
        "id": "io3rmYdHfHI5"
      },
      "execution_count": null,
      "outputs": []
    },
    {
      "cell_type": "markdown",
      "source": [
        "Each of the dots on our plot represents a correlation coefficient. The first data point in the top left of the graph tells us that at time-step 0, the correlation coefficient was 1, meaning that there was a perfect correlation. That makes sense, because you can't lag from time-step 0, so the coefficient can't be anything other than 1. But, starting at hour 1, the coefficient drops precipitously, and we see our autocorrelation coefficients slowly decay over time. As our lag recedes further into the past, the correlations break down; a prediction you made five hours ago about what's happening right now is going to be a lot more reliable than a prediction you made 96 hours ago.\n",
        "\n",
        "The light blue shape across the bottom of the graph represents the **confidence interval**, or the extent to which we can be sure that our estimated correlations reflect the correlations that exist in reality. By default, this is set to 95%. Data points which fall either above or below the shape are likely not due to chance, and those which fall inside the shape are likely due to chance. It looks like all our data is the result of some kind of effect, so we're good to go.\n",
        "\n",
        "<font size=\"+1\">Practice</font>\n",
        "\n",
        "Try it yourself! Make an ACF plot called `fig2` using your `y_prac` Series."
      ],
      "metadata": {
        "id": "gLEHMRvzfKEV"
      }
    },
    {
      "cell_type": "code",
      "source": [
        "fig2, ax = ...\n",
        "\n"
      ],
      "metadata": {
        "id": "u8ZUCXuSfMdq"
      },
      "execution_count": null,
      "outputs": []
    },
    {
      "cell_type": "markdown",
      "source": [
        "### Creating a PACF Plot\n",
        "\n",
        "Let's make a PACF plot using our `y` Series."
      ],
      "metadata": {
        "id": "d1vTCZHQfOdF"
      }
    },
    {
      "cell_type": "code",
      "source": [
        "fig1, ax = plt.subplots(figsize=(15, 6))\n",
        "\n",
        "plt.xlabel(\"Lag [hours]\")\n",
        "plt.ylabel(\"Correlation Coefficient\");"
      ],
      "metadata": {
        "id": "Md2HA6SzfQsi"
      },
      "execution_count": null,
      "outputs": []
    },
    {
      "cell_type": "markdown",
      "source": [
        "Aha! This looks very different. There are two things to notice here:\n",
        "\n",
        "First, we now have lots of data points that we can be relatively certain aren't due to chance, but we also have lots of data points inside the blue shape at the bottom, indicating that some of our data points are indeed due to chance. That's not necessarily a problem, but it's something useful to keep in mind.\n",
        "\n",
        "Second, recognize that even though the amplitude of the points on our graph has been significantly reduced, the trend has remained essentially the same: Strong positive correlations at the beginning, with the effect decaying over time. We would expect to see that, because the farther out into the future our predictions go, the less accurate they become. \n",
        "\n",
        "<font size=\"+1\">Practice</font>\n",
        "\n",
        "Try it yourself! Make an PACF plot using your `y_prac` Series."
      ],
      "metadata": {
        "id": "6syV4xm6fSbx"
      }
    },
    {
      "cell_type": "code",
      "source": [
        "fig2, ax = ...\n",
        "\n"
      ],
      "metadata": {
        "id": "jDOaGDdvfURl"
      },
      "execution_count": null,
      "outputs": []
    },
    {
      "cell_type": "markdown",
      "source": [
        "## Working with Rolling Windows\n",
        "\n",
        "**Rolling window** is an important concept for time series analysis. We first define a window size, like 7 days, three months, etc. Then we calculate some statistics taking data from each window sequentially throughout the time series. For example, if I want to calculate a three-month rolling sum with the time series data below:\n",
        "\n",
        "<table>\n",
        "    \n",
        "<tr>\n",
        "<th style=\"text-align: left\">Month</th>\n",
        "<th style=\"text-align: left\">sales</th>\n",
        "\n",
        "</tr>    \n",
        "<tr>\n",
        "<th style=\"text-align: left\">2022-01</th>\n",
        "<th style=\"text-align: left\">10</th>\n",
        "\n",
        "</tr>\n",
        "\n",
        "<tr>\n",
        "<td style=\"text-align: left\">2022-02</td>\n",
        "<td style=\"text-align: left\">20</td>\n",
        "</tr>\n",
        "    \n",
        "<tr>\n",
        "<td style=\"text-align: left\">2022-03</td>\n",
        "<td style=\"text-align: left\">25</td>\n",
        "</tr>\n",
        "\n",
        "<tr>\n",
        "<th style=\"text-align: left\">2022-04</th>\n",
        "<th style=\"text-align: left\">15</th>\n",
        "\n",
        "</tr>\n",
        "\n",
        "<tr>\n",
        "<td style=\"text-align: left\">2022-05</td>\n",
        "<td style=\"text-align: left\">20</td>\n",
        "</tr>\n",
        "    \n",
        "<tr>\n",
        "<td style=\"text-align: left\">2022-06</td>\n",
        "<td style=\"text-align: left\">30</td>\n",
        "</tr>\n",
        "    \n",
        "</table>\n",
        "\n",
        "The three-month rolling sum would be\n",
        "\n",
        "<table>\n",
        "    \n",
        "<tr>\n",
        "<th style=\"text-align: left\">Rolling Months</th>\n",
        "<th style=\"text-align: left\">Rolling sum sales</th>\n",
        "\n",
        "</tr>        \n",
        "<tr>\n",
        "<th style=\"text-align: left\">2022-01,02,03</th>\n",
        "<th style=\"text-align: left\">55</th>\n",
        "\n",
        "</tr>\n",
        "\n",
        "<tr>\n",
        "<td style=\"text-align: left\">2022-02,03,04</td>\n",
        "<td style=\"text-align: left\">60</td>\n",
        "</tr>\n",
        "    \n",
        "<tr>\n",
        "<td style=\"text-align: left\">2022-03,04,05</td>\n",
        "<td style=\"text-align: left\">60</td>\n",
        "</tr>\n",
        "\n",
        "<tr>\n",
        "<th style=\"text-align: left\">2022-04,05,06</th>\n",
        "<th style=\"text-align: left\">65</th>\n",
        "\n",
        "</tr>\n",
        "    \n",
        "</table>"
      ],
      "metadata": {
        "id": "4u6IfC5KfWKd"
      }
    },
    {
      "cell_type": "markdown",
      "source": [
        "Rolling window statistics are very helpful in smoothing noisy data when making time series predictions. Let's see it with an example. Since we're interested in making predictions about the air quality in Lagos, it would be helpful to understand the rolling average for the PM 2.5 readings with a line plot. To keep things manageable, we'll set our window-size to one week."
      ],
      "metadata": {
        "id": "F8ZA266yfZRC"
      }
    },
    {
      "cell_type": "code",
      "source": [
        "fig, ax = plt.subplots(figsize=(15, 6))\n",
        "# `168` is the number of hours in a week.\n",
        "df[\"P2\"].rolling(168).mean().plot(ax=ax);"
      ],
      "metadata": {
        "id": "fEvgsQV7fbPZ"
      },
      "execution_count": null,
      "outputs": []
    },
    {
      "cell_type": "markdown",
      "source": [
        "Even though there are lots of peaks and valleys here, we're starting to see an emerging trend.\n",
        "\n",
        "We can make the same graph using pandas, like this:\n",
        "\n",
        "<font size=\"+1\">Practice</font>\n",
        "\n",
        "Try it yourself! Make a line plot that shows the weekly rolling average of the `P2` values in the `Site 2` dataset. "
      ],
      "metadata": {
        "id": "vsER-cXMfc2l"
      }
    },
    {
      "cell_type": "code",
      "source": [],
      "metadata": {
        "id": "L-2uCtipffPx"
      },
      "execution_count": null,
      "outputs": []
    },
    {
      "cell_type": "markdown",
      "source": [
        "Besides rolling sum and rolling average, rolling window statistics can be applied to a lot of other statistics depends on the problem you are facing. In the example below, when we use **GARCH** model to analyze stock prices, we can use rolling window to calculate standard deviation."
      ],
      "metadata": {
        "id": "8mPkjf3QffjS"
      }
    },
    {
      "cell_type": "markdown",
      "source": [
        "### Splitting the Data in pandas\n",
        "\n",
        "The last thing to do in our data exploration is to split our data into training and test sets. For linear regression, we used an 80/20 split, where we used 80% of the data was our training set, and 20% of it was our test set. This time, we're going to expand the test set to 95%, and decrease the test set to %5 to bring it into line with `statsmodels` default confidence interval. This is important, because we'll need to use as much training data as we can if our model is going to accurately predict what's going to come next."
      ],
      "metadata": {
        "id": "mmFtW2L9fjbb"
      }
    },
    {
      "cell_type": "code",
      "source": [
        "cutoff_test1 = int(len(y) * 0.95)\n",
        "\n",
        "y_train = y.iloc[:cutoff_test1]\n",
        "y_test = y.iloc[cutoff_test1:]"
      ],
      "metadata": {
        "id": "yAPjf2xqflf-"
      },
      "execution_count": null,
      "outputs": []
    },
    {
      "cell_type": "code",
      "source": [
        "<font size=\"+1\">Practice</font>\n",
        "\n",
        "Try it yourself! Create a cutoff called `cutoff_test2`, split the `y_prac`Series into training and test sets, making sure to set the cutoff to 0.95."
      ],
      "metadata": {
        "id": "lfCyFS1-fqNK"
      },
      "execution_count": null,
      "outputs": []
    },
    {
      "cell_type": "code",
      "source": [
        "cutoff_test2 = ...\n",
        "\n",
        "y_prac_train = ...\n",
        "y_prac_test = ..."
      ],
      "metadata": {
        "id": "8SE2snTLfrKO"
      },
      "execution_count": null,
      "outputs": []
    },
    {
      "cell_type": "markdown",
      "source": [
        "## Building the Model"
      ],
      "metadata": {
        "id": "mTNyCr8XftUS"
      }
    },
    {
      "cell_type": "markdown",
      "source": [
        "### Baseline\n",
        "First, let's calculate the baseline MAE for our model."
      ],
      "metadata": {
        "id": "pWRilWVMfvKT"
      }
    },
    {
      "cell_type": "code",
      "source": [
        "y_train_mean = y_train.mean()\n",
        "y_pred_baseline = [y_train_mean] * len(y_train)\n",
        "mae_baseline = mean_absolute_error(y_train, y_pred_baseline)\n",
        "\n",
        "print(\"Mean P2 Reading:\", round(y_train_mean, 2))\n",
        "print(\"Baseline MAE:\", round(mae_baseline, 2))"
      ],
      "metadata": {
        "id": "BfJItMVGfxms"
      },
      "execution_count": null,
      "outputs": []
    },
    {
      "cell_type": "markdown",
      "source": [
        "<font size=\"+1\">Practice</font>\n",
        "\n",
        "Try it yourself! Calculate the baseline mean and MAE for the `y_prac` Series."
      ],
      "metadata": {
        "id": "KifrbAFRfzUL"
      }
    },
    {
      "cell_type": "code",
      "source": [
        "y_prac_train_mean = ...\n",
        "y_prac_pred_baseline = ...\n",
        "mae_baseline_prac = ...\n"
      ],
      "metadata": {
        "id": "JVQSR4cxf1pK"
      },
      "execution_count": null,
      "outputs": []
    },
    {
      "cell_type": "markdown",
      "source": [
        "### Iterating\n",
        "\n",
        "Before we can go any further, we need to instantiate an **autoregression model** based on our `y` training data. We'll call the model `model`."
      ],
      "metadata": {
        "id": "pJnxoGJwf3wC"
      }
    },
    {
      "cell_type": "code",
      "source": [
        "model = AutoReg(y_train, lags=24, old_names=False).fit()"
      ],
      "metadata": {
        "id": "vqq_dE9Ff6Hf"
      },
      "execution_count": null,
      "outputs": []
    },
    {
      "cell_type": "markdown",
      "source": [
        "Notice that, unlike our linear regression model which we built using scikit-learn, we're combining instantiation and fitting into one step; statsmodels includes that ability in its `AutoReg` method.\n",
        "\n",
        "<font size=\"+1\">Practice</font>\n",
        "\n",
        "Try it yourself! Create and fit an autoregression model called `model_prac`."
      ],
      "metadata": {
        "id": "h-YdyUFof80P"
      }
    },
    {
      "cell_type": "code",
      "source": [
        "model_prac = ..."
      ],
      "metadata": {
        "id": "ghZxuEJHgAQe"
      },
      "execution_count": null,
      "outputs": []
    },
    {
      "cell_type": "markdown",
      "source": [
        "Autoregression models need us to generate **in-sample predictions** in order to calculate the MAE of our training data. In-sample predictions use data that's already part of our sample. That's to distinguish it from out-of-sample predictions, which we'll talk about a bit later. The statsmodels library includes a method called [`predict`](https://www.statsmodels.org/stable/examples/notebooks/generated/predict.html) that can help us here. Above, the `AutoReg` method includes this line:\n",
        "\n",
        "```python\n",
        "old_names=False\n",
        "```\n",
        "\n",
        "The `False` value here tells the model that it can use in-sample lagged values to make predictions; if the value had been `True`, the model would have to look elsewhere to make its predictions.\n",
        "\n",
        "Here's how to generate in-sample predictions:"
      ],
      "metadata": {
        "id": "An76VUMQgB8W"
      }
    },
    {
      "cell_type": "code",
      "source": [
        "y_pred = model.predict().dropna()"
      ],
      "metadata": {
        "id": "BoKVH3RBgD0j"
      },
      "execution_count": null,
      "outputs": []
    },
    {
      "cell_type": "markdown",
      "source": [
        "Once we've done that, we can calculate the MAE of the predictions in our training set."
      ],
      "metadata": {
        "id": "0JWTIo47gFvK"
      }
    },
    {
      "cell_type": "code",
      "source": [
        "training_mae = mean_absolute_error(y_train.loc[y_pred.index], y_pred)\n",
        "print(\"Training MAE:\", training_mae)"
      ],
      "metadata": {
        "id": "9aSU78zcgHon"
      },
      "execution_count": null,
      "outputs": []
    },
    {
      "cell_type": "markdown",
      "source": [
        "<font size=\"+1\">Practice</font>\n",
        "\n",
        "Try it yourself! Generate in-sample predictions using `y_prac`, and find the MAE for your `y_prac` training data. Print the result."
      ],
      "metadata": {
        "id": "I3B8eaxwgJJO"
      }
    },
    {
      "cell_type": "code",
      "source": [
        "y_prac_pred = ...\n",
        "training_mae_prac = mean_absolute_error(\n",
        "    y_prac_train.loc[y_prac_pred.index], y_prac_pred\n",
        ")  # REMOVERHS\n"
      ],
      "metadata": {
        "id": "knDRedqpgLPD"
      },
      "execution_count": null,
      "outputs": []
    },
    {
      "cell_type": "markdown",
      "source": [
        "### Residuals\n",
        "\n",
        "We're going to use our model's residuals to make some visualizations, but first, we need to calculate what those residuals are."
      ],
      "metadata": {
        "id": "Ikltc4fygNJ6"
      }
    },
    {
      "cell_type": "code",
      "source": [
        "y_train_resid = y_train - y_pred"
      ],
      "metadata": {
        "id": "C5hdePGEgQY4"
      },
      "execution_count": null,
      "outputs": []
    },
    {
      "cell_type": "markdown",
      "source": [
        "Now we can make a line plot of our model's residuals."
      ],
      "metadata": {
        "id": "jccKj7DJgSMi"
      }
    },
    {
      "cell_type": "code",
      "source": [
        "fig1, ax = plt.subplots(figsize=(15, 6))\n",
        "y_train_resid.plot(ax=ax);"
      ],
      "metadata": {
        "id": "GXIG44p2gUZX"
      },
      "execution_count": null,
      "outputs": []
    },
    {
      "cell_type": "markdown",
      "source": [
        "fig1, ax = plt.subplots(figsize=(15, 6))\n",
        "y_train_resid.plot(ax=ax);"
      ],
      "metadata": {
        "id": "6wY5aXuJgW_s"
      }
    },
    {
      "cell_type": "markdown",
      "source": [
        "<font size=\"+1\">Practice</font>\n",
        "\n",
        "Try it yourself! Calculate the residuals for `y_prac` and visualize them on a line plot called `fig2`. "
      ],
      "metadata": {
        "id": "QSToFMoagYLq"
      }
    },
    {
      "cell_type": "code",
      "source": [
        "y_prac_train_resid = ...\n",
        "fig2, ax = ...\n"
      ],
      "metadata": {
        "id": "gs9c1kJngaC6"
      },
      "execution_count": null,
      "outputs": []
    },
    {
      "cell_type": "markdown",
      "source": [
        "Let's also take a look at a histogram of the residuals to help us see how they're distributed."
      ],
      "metadata": {
        "id": "C8j4joUpgb42"
      }
    },
    {
      "cell_type": "code",
      "source": [
        "y_train_resid.hist();"
      ],
      "metadata": {
        "id": "1Bv0PItcgd7b"
      },
      "execution_count": null,
      "outputs": []
    },
    {
      "cell_type": "markdown",
      "source": [
        "Remember, when we make histograms, we're trying to answer two questions: \n",
        "\n",
        "1.) Is it a normal distribution?\n",
        "2.) Are there any outliers?\n",
        "\n",
        "For our histogram, that middle bar is pretty tall, but the shape described by all the bars looks like a normal distribution (albeit a stretched one), so the answer to the first question is \"yes.\" Outliers are values that fall beyond the shape of a normal distribution, and it doesn't look like we have any of those, so the answer to the second question is \"no.\" Those are the answers we're looking for, so let's move on to the next step."
      ],
      "metadata": {
        "id": "TCWaK5Csggcf"
      }
    },
    {
      "cell_type": "markdown",
      "source": [
        "### ACF Plots\n",
        "\n",
        "We're going to make an ACF plot to see how much variation there is in the dataset."
      ],
      "metadata": {
        "id": "uLxUmG2nghVa"
      }
    },
    {
      "cell_type": "code",
      "source": [
        "fig, ax = plt.subplots(figsize=(15, 6))\n",
        "plot_acf(y_train_resid.dropna(), ax=ax);"
      ],
      "metadata": {
        "id": "Q3q0jX0bgkIu"
      },
      "execution_count": null,
      "outputs": []
    },
    {
      "cell_type": "markdown",
      "source": [
        "At first, this might seem wrong, but we're actually looking for a mostly-flat graph here. This is an indication that our model describes all the **seasonality**, or regular changes, in our data. In other words, this graph is exactly what we're looking for.\n",
        "\n",
        "<font size=\"+1\">Practice</font>\n",
        "\n",
        "Try it yourself! Calculate the make a histogram and an ACF plot of the `y_prac` data. "
      ],
      "metadata": {
        "id": "XAiBUdhKgl__"
      }
    },
    {
      "cell_type": "code",
      "source": [],
      "metadata": {
        "id": "pGvxepWzgoQq"
      },
      "execution_count": null,
      "outputs": []
    },
    {
      "cell_type": "code",
      "source": [],
      "metadata": {
        "id": "VaTQSlpxgoy3"
      },
      "execution_count": null,
      "outputs": []
    },
    {
      "cell_type": "markdown",
      "source": [
        "## Evaluating the Model\n",
        "\n",
        "Now that we've built an autoregression model that seems to be working pretty well, it's time to **evaluate** it. We've already established that the model works well when compared to itself, but what about how well it works when we start looking outside our original dataset?"
      ],
      "metadata": {
        "id": "ktsdPIB7gpuj"
      }
    },
    {
      "cell_type": "markdown",
      "source": [
        "### Out-of-Sample Predictions\n",
        "\n",
        "To look outside the data, we need to create a new set of predictions. The process here is very similar to the way we made our **baseline** predictions. We're still using [`predict`](https://www.statsmodels.org/0.6.1/examples/notebooks/generated/predict.html), but we're using the `test` data instead of the `train` data."
      ],
      "metadata": {
        "id": "7iuaviGXgrp3"
      }
    },
    {
      "cell_type": "code",
      "source": [
        "y_pred_test = model.predict(y_test.index.min(), y_test.index.max())"
      ],
      "metadata": {
        "id": "8dG7myi0gts7"
      },
      "execution_count": null,
      "outputs": []
    },
    {
      "cell_type": "markdown",
      "source": [
        "Now that we have a prediction, we can calculate the MAE of our out-of-sample data."
      ],
      "metadata": {
        "id": "uUK7SQGagvky"
      }
    },
    {
      "cell_type": "markdown",
      "source": [
        "<font size=\"+1\">Practice</font>\n",
        "\n",
        "Try it yourself! Generate out-of-sample predictions using your `y_prac` data and `model_prac`, calculate the MAE, and print the result."
      ],
      "metadata": {
        "id": "Fh93C5sFgxnw"
      }
    },
    {
      "cell_type": "code",
      "source": [
        "y_prac_pred_test = model_prac.predict(\n",
        "    y_prac_test.index.min(), y_prac_test.index.max()\n",
        ")  # REMOVERHS\n",
        "test_mae_prac = ...\n"
      ],
      "metadata": {
        "id": "vIG0344ngzfC"
      },
      "execution_count": null,
      "outputs": []
    },
    {
      "cell_type": "markdown",
      "source": [
        "Now that we have some out-of-sample predictions, we can compare it to our in-sample predictions using a line plot. The first step there is to create a new DataFrame called `test1_predictions` with two columns: one for the `y_test` data (the true data) and one for the `y_pred` (the predicted data). It's always a good idea to print the first five rows of a new DataFrame, just to make sure it looks the way it should."
      ],
      "metadata": {
        "id": "J33hxqNKg1Oq"
      }
    },
    {
      "cell_type": "code",
      "source": [
        "test1_predictions = pd.DataFrame(\n",
        "    {\"y_test\": y_test, \"y_pred\": y_pred_test}, index=y_test.index\n",
        ")\n",
        "test1_predictions.head()"
      ],
      "metadata": {
        "id": "rcBIBPtUg3JQ"
      },
      "execution_count": null,
      "outputs": []
    },
    {
      "cell_type": "markdown",
      "source": [
        "That looks correct, so we can move on to our line plot."
      ],
      "metadata": {
        "id": "OtF6gfpMg4wP"
      }
    },
    {
      "cell_type": "code",
      "source": [
        "fig = px.line(test1_predictions, labels={\"value\": \"P2\"})\n",
        "fig.show()"
      ],
      "metadata": {
        "id": "2VhUTaKPg6wT"
      },
      "execution_count": null,
      "outputs": []
    },
    {
      "cell_type": "markdown",
      "source": [
        "This looks kind of strange, but it's actually exactly what we would expect to see. At the beginning, the `y_pred` data has a fair amount of predictive power, but, as time goes on, the predictions become less and less accurate. It's kind of like what happened with our ACF plots, only in reverse. Last time, the model lost its predictive power as the lag increased. Here, the model loses its predictive power as the horizon — how far away from the present your predictions are — increases.  But don't worry! We'll fix it in a second.\n",
        "\n",
        "<font size=\"+1\">Practice</font>\n",
        "\n",
        "In the meantime, try it yourself! Make a DataFrame with columns for `y_prac_test` and `y_prac_pred`, and print the result. Then, make a line plot that shows the relationship between the two variables."
      ],
      "metadata": {
        "id": "bmo0irBmg8zk"
      }
    },
    {
      "cell_type": "code",
      "source": [],
      "metadata": {
        "id": "U5cr64Nfg-pf"
      },
      "execution_count": null,
      "outputs": []
    },
    {
      "cell_type": "code",
      "source": [],
      "metadata": {
        "id": "f4cJgG4wg_Vz"
      },
      "execution_count": null,
      "outputs": []
    },
    {
      "cell_type": "markdown",
      "source": [
        "### Walk-forward Validation\n",
        "\n",
        "Our predictions lose power over time because the model gets farther and farther away from its beginning. But what if we could move that beginning forward with the model? That's what **walk-forward validation** is. In a walk-forward validation, we re-train the model at for each new observation in the dataset, dropping the data that's the farthest in the past. Let's say that our prediction for what's going to happen at 12:00 is based on what happened at 11:00, 10:00, and 9:00. When we move forward an hour to predict what's going to happen at 1:00, we only use data from 10:00, 11:00, and 12:00, dropping the data from 9:00 because it's now too far in the past. Let's see how it works."
      ],
      "metadata": {
        "id": "2ioyyqvjg_zS"
      }
    },
    {
      "cell_type": "code",
      "source": [
        "%%capture\n",
        "# First, we define a walk-forward variable\n",
        "y_pred_wfv = pd.Series()\n",
        "# Then, we define a variable that takes into account what's happened in the past\n",
        "history = y_train.copy()\n",
        "# The `for` loop tells the model what to do with those variables.\n",
        "for i in range(len(y_test)):\n",
        "    # Here's where we generate the actual AR model\n",
        "    r = AutoReg(history, 24, old_names=False).fit()\n",
        "    # Now we're using `forecast` to create our next prediction\n",
        "    next_pred = r.forecast()\n",
        "    # We're adding the next prediction to the list\n",
        "    y_pred_wfv = y_pred_wfv.append(next_pred)\n",
        "    # And finally updating `history` to take into account the new observation\n",
        "    history = history.append(y_test[next_pred.index])"
      ],
      "metadata": {
        "id": "WpJ1ga8ihB7X"
      },
      "execution_count": null,
      "outputs": []
    },
    {
      "cell_type": "markdown",
      "source": [
        "You'll notice that we're using the same `AutoReg` method we used before, only this time, we're using the `y_train` data. Also like before, the `24` is telling the model how many hours it should pay attention to. If you change that number, the MAE will change too.\n",
        "\n",
        "Speaking of the MAE, let's calculate it and see what we've got."
      ],
      "metadata": {
        "id": "tOvU6NEOhEcP"
      }
    },
    {
      "cell_type": "code",
      "source": [
        "test1_mae = mean_absolute_error(y_test, y_pred_wfv)\n",
        "print(\"Test MAE 1 (walk forward validation):\", round(test1_mae, 2))"
      ],
      "metadata": {
        "id": "tIN10yVthGy7"
      },
      "execution_count": null,
      "outputs": []
    },
    {
      "cell_type": "markdown",
      "source": [
        "<font size=\"+1\">Practice</font>\n",
        "\n",
        "Try it yourself! Perform a walk-forward validation of your model using the `y_prac_train` data. Then, calculate the MAE and print the result. Note that because we're using `%%capture` in the validation cell, you'll need to create a new cell for your MAE calculation."
      ],
      "metadata": {
        "id": "H5lFK-echIfr"
      }
    },
    {
      "cell_type": "code",
      "source": [
        "%%capture\n",
        "\n",
        "y_prac_pred_wfv = ...\n",
        "history_prac = ...\n"
      ],
      "metadata": {
        "id": "tacZ-Sd_hLmC"
      },
      "execution_count": null,
      "outputs": []
    },
    {
      "cell_type": "code",
      "source": [
        "test2_mae = ...\n"
      ],
      "metadata": {
        "id": "fZNQgvYkhNQS"
      },
      "execution_count": null,
      "outputs": []
    },
    {
      "cell_type": "markdown",
      "source": [
        "## Communicating the Results\n",
        "\n",
        "In machine learning, the model's **parameters** are the parts of the model that are **learned** from the training data. There are also **hyperparameters**, which we'll discuss in the next module. For now, just know that parameters come from inside the model, and hyperparameters are specified outside the model.\n",
        "\n",
        "So, let's print the parameters of our validated model and see what it looks like."
      ],
      "metadata": {
        "id": "8haL5mK3hPRG"
      }
    },
    {
      "cell_type": "code",
      "source": [
        "print(model.params)"
      ],
      "metadata": {
        "id": "dWzgMo3AhSEn"
      },
      "execution_count": null,
      "outputs": []
    },
    {
      "cell_type": "markdown",
      "source": [
        "That looks pretty good, but showing it in a line plot would be much better."
      ],
      "metadata": {
        "id": "KR2OEUKuhRQv"
      }
    },
    {
      "cell_type": "code",
      "source": [
        "test1_predictions = pd.DataFrame(\n",
        "    {\"y_test\": y_test, \"y_pred\": y_pred_wfv}, index=y_test.index\n",
        ")\n",
        "fig = px.line(test1_predictions)\n",
        "fig.show()"
      ],
      "metadata": {
        "id": "OUIFJXWThXB7"
      },
      "execution_count": null,
      "outputs": []
    },
    {
      "cell_type": "markdown",
      "source": [
        "That looks much better! Now our predictions are actually tracking the `test` data, just like they did in the linear regression model.\n",
        "\n",
        "<font size=\"+1\">Practice</font>\n",
        "\n",
        "Try it yourself! Access the parameters of `model_prac`, put `y_prac_test` and `y_prac_pred_wfv` into the `test2_predictions` DataFrame, and create a line plot using plotly express."
      ],
      "metadata": {
        "id": "baNwga30hYib"
      }
    },
    {
      "cell_type": "code",
      "source": [],
      "metadata": {
        "id": "mXvM741bhaKp"
      },
      "execution_count": null,
      "outputs": []
    },
    {
      "cell_type": "code",
      "source": [],
      "metadata": {
        "id": "Uxx7GZBehbGH"
      },
      "execution_count": null,
      "outputs": []
    },
    {
      "cell_type": "markdown",
      "source": [
        "# ARMA Models & Hyperparameters\n",
        "**ARMA** stands for Auto Regressive Moving Average, and it's a special kind of **time-series** analysis. So far, we've used autoregression (AR) to build our time-series models, and you might recall that AR models rely on values that remain relatively stable over time. That is, they can predict the future very well, as long as the future looks roughly the same as the past. The trouble with predicting the future is that things can suddenly change, and as a result, the future doesn't look much like the past anymore. These sudden changes — economists call them *endogenous shocks* — can be as big as a hurricane destroying a city or an unexpected increase in the minimum wage, and they can be as small as a new restaurant opening in a neighborhood or a single person losing their job. In our data, the air quality might be changed if there was a nearby forest fire, or if a building collapsed near one of the sensors and raised a giant cloud of dust. \n",
        "\n",
        "Regardless of the size of the shock, ARMA models can *still* predict the future. All we need to make that work is data.\n",
        "\n",
        "## Cleaning the Data\n",
        "\n",
        "As always, we need to import all the tools we'll need to make our model."
      ],
      "metadata": {
        "id": "DZcFd7PshfAw"
      }
    },
    {
      "cell_type": "code",
      "source": [
        "import time\n",
        "import warnings\n",
        "\n",
        "import matplotlib.pyplot as plt\n",
        "import pandas as pd\n",
        "import plotly.express as px\n",
        "import seaborn as sns\n",
        "from pymongo import MongoClient\n",
        "from sklearn.metrics import mean_absolute_error\n",
        "from statsmodels.graphics.tsaplots import plot_acf, plot_pacf\n",
        "from statsmodels.tsa.arima.model import ARIMA\n",
        "\n",
        "warnings.filterwarnings(\"ignore\")"
      ],
      "metadata": {
        "id": "vL0nfSMuhmkk"
      },
      "execution_count": null,
      "outputs": []
    },
    {
      "cell_type": "markdown",
      "source": [
        "And then we need to get our database client up and running."
      ],
      "metadata": {
        "id": "1U-OVuaKhpxU"
      }
    },
    {
      "cell_type": "code",
      "source": [
        "client = MongoClient(host=\"localhost\", port=27017)\n",
        "db = client[\"air-quality\"]\n",
        "lagos = db[\"lagos\"]"
      ],
      "metadata": {
        "id": "saqZM2Yghr5g"
      },
      "execution_count": null,
      "outputs": []
    },
    {
      "cell_type": "markdown",
      "source": [
        "Then, we need to clean our data. All the examples will use data from Site 3; all the practice sets will use Site 2. If you need a refresher on how all those methods work, refer back to the Autoregression notebook."
      ],
      "metadata": {
        "id": "fOW9xVdnhuEE"
      }
    },
    {
      "cell_type": "code",
      "source": [
        "results = lagos.find(\n",
        "    # Note that the `3` refers to Site 3.\n",
        "    {\"metadata.site\": 3, \"metadata.measurement\": \"P2\"},\n",
        "    projection={\"P2\": 1, \"timestamp\": 1, \"_id\": 0},\n",
        ")\n",
        "df = pd.DataFrame(list(results)).set_index(\"timestamp\")\n",
        "df.index = df.index.tz_localize(\"UTC\").tz_convert(\"Africa/Lagos\")\n",
        "df = df[df[\"P2\"] < 500]\n",
        "df[\"P2.L1\"] = df[\"P2\"].shift(1)\n",
        "df.dropna(inplace=True)\n",
        "y = df[\"P2\"].resample(\"1H\").mean().fillna(method=\"ffill\")"
      ],
      "metadata": {
        "id": "4uGjHZUrhv4M"
      },
      "execution_count": null,
      "outputs": []
    },
    {
      "cell_type": "markdown",
      "source": [
        "<font size=\"+1\">Practice</font>\n",
        "\n",
        "Try it yourself! Get your client up and running and call your database `db_prac`. Create a variable called `results_prac`, and read in a collection called `lagos_prac` using data from Site 2. Save it as a Series called `y_prac`."
      ],
      "metadata": {
        "id": "HZn0xfAuhxjg"
      }
    },
    {
      "cell_type": "code",
      "source": [
        "db_prac = ...\n",
        "lagos_prac = ...\n",
        "\n",
        "df_prac = ...\n",
        "df_prac.index = ...\n",
        "df_prac = ...\n",
        "df_prac[\"P2.L1\"] = ...\n",
        "\n",
        "y_prac = ..."
      ],
      "metadata": {
        "id": "PJm6qZqth1Hc"
      },
      "execution_count": null,
      "outputs": []
    },
    {
      "cell_type": "markdown",
      "source": [
        "## Exploring the Data\n",
        "\n",
        "Just like we did with AR, we'll start by exploring the data. Let's make a histogram."
      ],
      "metadata": {
        "id": "RsMI8Indh3Vk"
      }
    },
    {
      "cell_type": "code",
      "source": [
        "y.hist();"
      ],
      "metadata": {
        "id": "-lAxqnuTh6FH"
      },
      "execution_count": null,
      "outputs": []
    },
    {
      "cell_type": "markdown",
      "source": [
        "<font size=\"+1\">Practice</font>\n",
        "\n",
        "Try it yourself! Make a histogram using `y_prac`."
      ],
      "metadata": {
        "id": "kZAFDoU_h7sg"
      }
    },
    {
      "cell_type": "code",
      "source": [],
      "metadata": {
        "id": "gLWPXAJjh9kL"
      },
      "execution_count": null,
      "outputs": []
    },
    {
      "cell_type": "markdown",
      "source": [
        "This is what the data looks like when our sample is 1-hour intervals, but we might want to be able to quickly change our sample to other intervals of time. First, we'll create a function called `wrangle`, and then add an **argument**. In Python, arguments tell the function what to do. This function already has an argument called `collection`, so we'll need to add another to make resampling work. We'll call that argument `resamp_pd`. "
      ],
      "metadata": {
        "id": "feE0fSFUh_F_"
      }
    },
    {
      "cell_type": "code",
      "source": [
        "# Here's where the new argument goes. We're setting the default value to `\"1H\"`.\n",
        "def wrangle(lagos, resamp_pd=\"1H\"):\n",
        "    results = lagos.find(\n",
        "        # Note that the `3` refers to Site 3.\n",
        "        {\"metadata.site\": 3, \"metadata.measurement\": \"P2\"},\n",
        "        projection={\"P2\": 1, \"timestamp\": 1, \"_id\": 0},\n",
        "    )\n",
        "    df = pd.DataFrame(list(results)).set_index(\"timestamp\")\n",
        "    df.index = df.index.tz_localize(\"UTC\").tz_convert(\"Africa/Lagos\")\n",
        "    df[\"P2.L1\"] = df[\"P2\"].shift(1)\n",
        "    df.dropna(inplace=True)\n",
        "    return y"
      ],
      "metadata": {
        "id": "ZPX6yFq9iAxk"
      },
      "execution_count": null,
      "outputs": []
    },
    {
      "cell_type": "markdown",
      "source": [
        "Now let's change `\"1H\"` to `\"1D\"` and see what happens."
      ],
      "metadata": {
        "id": "dFnJWwgriDXL"
      }
    },
    {
      "cell_type": "code",
      "source": [
        "y = wrangle(lagos, resamp_pd=\"1D\")\n",
        "print(y)"
      ],
      "metadata": {
        "id": "KHHTDNjQiFY_"
      },
      "execution_count": null,
      "outputs": []
    },
    {
      "cell_type": "markdown",
      "source": [
        "As you can see on the left side of the table, the samples are now at one day intervals, which is exactly what we wanted!\n",
        "\n",
        "Let's make a new histogram to see if changing the sampling interval made a difference in the data."
      ],
      "metadata": {
        "id": "wBLMgfg4iHNo"
      }
    },
    {
      "cell_type": "code",
      "source": [
        "y.hist();"
      ],
      "metadata": {
        "id": "fRbBN0RyiJ2o"
      },
      "execution_count": null,
      "outputs": []
    },
    {
      "cell_type": "markdown",
      "source": [
        "This looks pretty different! It's always nice to have a diversified dataset.\n",
        "\n",
        "<font size=\"+1\">Practice</font>\n",
        "\n",
        "Try it yourself! Define a function called `wrangle_prac` run it, and print the results of `y_prac`. Then, create a new histogram from `y_prac`."
      ],
      "metadata": {
        "id": "RxMKZv-3iLho"
      }
    },
    {
      "cell_type": "code",
      "source": [
        "\n",
        "print(y_prac)"
      ],
      "metadata": {
        "id": "wY50JEieiNVo"
      },
      "execution_count": null,
      "outputs": []
    },
    {
      "cell_type": "code",
      "source": [],
      "metadata": {
        "id": "7FH_VbpziPLU"
      },
      "execution_count": null,
      "outputs": []
    },
    {
      "cell_type": "markdown",
      "source": [
        "Like with our AR model, we need to create ACF and PACF plots to see what's happening with the correlation coefficients."
      ],
      "metadata": {
        "id": "KNMQngfBiPm0"
      }
    },
    {
      "cell_type": "code",
      "source": [
        "fig, ax = plt.subplots(figsize=(15, 6))\n",
        "plot_acf(y, ax=ax)\n",
        "plt.xlabel(\"Lag [hours]\")\n",
        "plt.ylabel(\"Correlation Coefficient\");"
      ],
      "metadata": {
        "id": "bRQGcqLjiR0w"
      },
      "execution_count": null,
      "outputs": []
    },
    {
      "cell_type": "markdown",
      "source": [
        "And now let's make a PACF plot."
      ],
      "metadata": {
        "id": "wkQURREaiTaD"
      }
    },
    {
      "cell_type": "code",
      "source": [
        "fig, ax = plt.subplots(figsize=(15, 6))\n",
        "fig = plot_pacf(y, ax=ax)\n",
        "plt.xlabel(\"Lag [hours]\")\n",
        "plt.ylabel(\"Correlation Coefficient\");"
      ],
      "metadata": {
        "id": "N1IBmaMyiU_U"
      },
      "execution_count": null,
      "outputs": []
    },
    {
      "cell_type": "markdown",
      "source": [
        "<font size=\"+1\">Practice</font>\n",
        "\n",
        "Try it yourself! Make a PAC and a PACF plot using your `y_prac` data. "
      ],
      "metadata": {
        "id": "3NkG61fZiXZg"
      }
    },
    {
      "cell_type": "code",
      "source": [],
      "metadata": {
        "id": "2bIIpoPTiZOT"
      },
      "execution_count": null,
      "outputs": []
    },
    {
      "cell_type": "code",
      "source": [],
      "metadata": {
        "id": "zmqfobpEiZU8"
      },
      "execution_count": null,
      "outputs": []
    },
    {
      "cell_type": "markdown",
      "source": [
        "## Splitting the Data\n",
        "\n",
        "In our AR model, we split our data based on the number of observations we wanted to investigate. This time, we're going to split our data based on the date, using just the readings from October 2018. So, just like we did before, we'll create a training set using `y`, but instead of using percentages to split the data, we'll use dates."
      ],
      "metadata": {
        "id": "D6DAgeYniZhb"
      }
    },
    {
      "cell_type": "code",
      "source": [
        "# Notice that the date format is `YYYY-MM-DD`\n",
        "y_train = y.loc[\"2018-10-01\":\"2018-10-31\"]"
      ],
      "metadata": {
        "id": "r22ZpykUibbM"
      },
      "execution_count": null,
      "outputs": []
    },
    {
      "cell_type": "markdown",
      "source": [
        "<font size=\"+1\">Practice</font>\n",
        "\n",
        "Try it yourself! Create a training dataset called `y_prac_train` based on November 2017. (Hint: there are 30 days in November.)"
      ],
      "metadata": {
        "id": "wdaJjAPFic4M"
      }
    },
    {
      "cell_type": "code",
      "source": [
        "y_prac_train = ..."
      ],
      "metadata": {
        "id": "7_P6SObhifGf"
      },
      "execution_count": null,
      "outputs": []
    },
    {
      "cell_type": "markdown",
      "source": [
        "## Building the Model\n",
        "### Baseline\n",
        "\n",
        "The first thing we need to do is calculate the MAE for our new model:"
      ],
      "metadata": {
        "id": "3vIlSGgLigwM"
      }
    },
    {
      "cell_type": "code",
      "source": [
        "y_train_mean = y_train.mean()\n",
        "y_pred_baseline = [y_train_mean] * len(y_train)\n",
        "mae_baseline = mean_absolute_error(y_train, y_pred_baseline)\n",
        "print(\"Mean P2 Reading:\", round(y_train_mean, 2))\n",
        "print(\"Baseline MAE:\", round(mae_baseline, 2))"
      ],
      "metadata": {
        "id": "eEVMcKQPik89"
      },
      "execution_count": null,
      "outputs": []
    },
    {
      "cell_type": "markdown",
      "source": [
        "<font size=\"+1\">Practice</font>\n",
        "\n",
        "Try it yourself! Calculate the mean and MAE for the `y_prac` Series, and print the results."
      ],
      "metadata": {
        "id": "jgB8GUqSim5s"
      }
    },
    {
      "cell_type": "code",
      "source": [
        "y_prac_train_mean = ...\n",
        "y_prac_pred_baseline = ...\n",
        "mae_baseline_prac = ...\n"
      ],
      "metadata": {
        "id": "vzCqWjOiip7w"
      },
      "execution_count": null,
      "outputs": []
    },
    {
      "cell_type": "markdown",
      "source": [
        "### Iterating\n",
        "\n",
        "So far, the only difference between our old AR model and the new ARMA model we're building is that the new model's data is based on the date rather than on the length of the variable. But the difference between AR and ARMA is the addition of hyperparameters. \n",
        "\n",
        "### Hyperparameters\n",
        "\n",
        "Let's set our `p` values to include values from 0 to 25, moving in steps of 8:"
      ],
      "metadata": {
        "id": "sV5UA75Dirm4"
      }
    },
    {
      "cell_type": "code",
      "source": [
        "p_params = range(0, 25, 8)"
      ],
      "metadata": {
        "id": "ccuoVZKmivxE"
      },
      "execution_count": null,
      "outputs": []
    },
    {
      "cell_type": "markdown",
      "source": [
        "And let's set our `q` values to include values from 0 to 3, moving in steps of 1:"
      ],
      "metadata": {
        "id": "fboJazG5ixrX"
      }
    },
    {
      "cell_type": "code",
      "source": [
        "q_params = range(0, 3)"
      ],
      "metadata": {
        "id": "q1mVe-imizvD"
      },
      "execution_count": null,
      "outputs": []
    },
    {
      "cell_type": "markdown",
      "source": [
        "<font size=\"+1\">Practice</font>\n",
        "\n",
        "Using `p_params_prac`, set the `p` value to include vales from 1 to 4, moving in steps of 1. Then, using `q_params_prac`, set the `q` value to include values from 0 to 3, moving in steps of 1."
      ],
      "metadata": {
        "id": "kBTNczDZi1rV"
      }
    },
    {
      "cell_type": "markdown",
      "source": [
        "p_params_prac = ...\n",
        "q_params_prac = ..."
      ],
      "metadata": {
        "id": "y77JDFVli4x4"
      }
    },
    {
      "cell_type": "markdown",
      "source": [
        "In order to tell the model to keep going through all the possible combinations, we'll add in a pair of `for` loops. (If you need a refresher on `for` loops, refer to Notebook 001.)"
      ],
      "metadata": {
        "id": "NMwBh6Zgi7YD"
      }
    },
    {
      "cell_type": "code",
      "source": [
        "maes = dict()\n",
        "for p in p_params:\n",
        "    maes[p] = list()\n",
        "    for q in q_params:\n",
        "        order = (p, 0, q)\n",
        "        start_time = time.time()\n",
        "        # Here's where we actually define the model\n",
        "        model = ARIMA(y_train, order=order).fit()\n",
        "        # Here's where we tell the model how we want it to deal with time\n",
        "        elapsed_time = round(time.time() - start_time, 2)\n",
        "        print(f\"Trained ARIMA {order} in {elapsed_time} seconds\")\n",
        "        # Here's where we get back into the MAE for the model\n",
        "        y_pred = model.predict()\n",
        "        mae = mean_absolute_error(y_train.iloc[24:], y_pred.iloc[24:])\n",
        "        # And finally we append the MAES to the original list\n",
        "        maes[p].append(mae)"
      ],
      "metadata": {
        "id": "o0Io2gtvi8S4"
      },
      "execution_count": null,
      "outputs": []
    },
    {
      "cell_type": "markdown",
      "source": [
        "<font size=\"+1\">Practice</font>\n",
        "\n",
        "Try it yourself! Create an ARMA model called `mode_prac2` based on a dictionary called `maes_prac`, using your training and test data, then print the results and append the MAE to `maes_prac`."
      ],
      "metadata": {
        "id": "b_4ahbY6i-WE"
      }
    },
    {
      "cell_type": "code",
      "source": [],
      "metadata": {
        "id": "hJPL2DatjAbn"
      },
      "execution_count": null,
      "outputs": []
    },
    {
      "cell_type": "markdown",
      "source": [
        "Now that we have a working ARMA model, let's turn the output into a DataFrame so we can see what happened."
      ],
      "metadata": {
        "id": "fxoV8gvxjBB8"
      }
    },
    {
      "cell_type": "code",
      "source": [
        "mae_grid = pd.DataFrame(maes)\n",
        "mae_grid.round(4)"
      ],
      "metadata": {
        "id": "U6vogZN3jDk4"
      },
      "execution_count": null,
      "outputs": []
    },
    {
      "cell_type": "markdown",
      "source": [
        "And let's visualize the DataFrame in a heatmap. (If you need a refresher on how to create a heatmap in seaborn, refer to Notebook 008.)"
      ],
      "metadata": {
        "id": "pWWEwLrujFkz"
      }
    },
    {
      "cell_type": "code",
      "source": [
        "sns.heatmap(mae_grid, cmap=\"Blues\")\n",
        "plt.xlabel(\"p values\")\n",
        "plt.ylabel(\"q values\")\n",
        "plt.title(\"Grid Search (Criterion: MAE)\");"
      ],
      "metadata": {
        "id": "dHoqc1GFjLL3"
      },
      "execution_count": null,
      "outputs": []
    },
    {
      "cell_type": "markdown",
      "source": [
        "<font size=\"+1\">Practice</font>\n",
        "\n",
        "Try it yourself! Turn read the output of your ARMA model into a DataFrame called `mae_grid_prac`, and visualize it in a heatmap."
      ],
      "metadata": {
        "id": "gxV-SGmxjNQL"
      }
    },
    {
      "cell_type": "code",
      "source": [
        "mae_grid_prac = ...\n"
      ],
      "metadata": {
        "id": "m7qSBpSFjPPR"
      },
      "execution_count": null,
      "outputs": []
    },
    {
      "cell_type": "markdown",
      "source": [
        "It looks like our MAE values are in the right place, but let's try some other ways to explore our new model using the `plot_diagnostics` method."
      ],
      "metadata": {
        "id": "2B26ASzPjRAn"
      }
    },
    {
      "cell_type": "code",
      "source": [
        "fig, ax = plt.subplots(figsize=(15, 12))\n",
        "model.plot_diagnostics(fig=fig);"
      ],
      "metadata": {
        "id": "L45SH6MdjTBE"
      },
      "execution_count": null,
      "outputs": []
    },
    {
      "cell_type": "markdown",
      "source": [
        "As usual, we have quite a lot to sift through here. The first graph is showing us our model's residuals. Ideally, we'd like to see this be as close to zero as possible, and this graph is telling us that, for the most part, we have a good model.\n",
        "\n",
        "The next graph over shows us another version of the same thing. The histogram is similar to the one we made before, but there's a pair of lines superimposed. These lines are indicating the **kernel density**, which is another way of saying that it's a smoothed-out version of the blue histogram bars. The green line represents a normal distribution, and is included here just to give you something to compare to the values from your model. The orange line represents the smoothed-out version of the result off your model. Our model is actually pretty close to a normal distribution, so that's good!\n",
        "\n",
        "The Q-Q plot on the bottom left is yet another way to visualize the same thing. Here, the red line is showing us a perfect 1:1 correlation between our variables, and the wavy blue line is showing us what we actually have. Again, our model is pretty close to the red line, so it's looking good.\n",
        "\n",
        "And finally, we have a correlogram, which might look familiar; it's the same kind of plot as the ACF and PACF plots from our AR models. \n",
        "\n",
        "<font size=\"+1\">Practice</font>\n",
        "\n",
        "Try it yourself! Use `plot_diagnostics` to examine the residuals from `model_prac`."
      ],
      "metadata": {
        "id": "COYUbkyNjWEd"
      }
    },
    {
      "cell_type": "code",
      "source": [],
      "metadata": {
        "id": "uGvWZDLIjWzY"
      },
      "execution_count": null,
      "outputs": []
    },
    {
      "cell_type": "markdown",
      "source": [
        "## Communicating the Results\n",
        "\n",
        "Now that we have an ARMA model that seems to be working well, it's time to communicate the results of our analysis in a line graph. Let's create a graph that shows the relationship between our training and predicting data. (For a refresher on how to do this and what it means, refer to the AR notebook.)"
      ],
      "metadata": {
        "id": "Cyg_k7WUjXp_"
      }
    },
    {
      "cell_type": "code",
      "source": [
        "y_train_pred = model.predict()\n",
        "df_predictions = pd.DataFrame(\n",
        "    {\"y_train\": y_train, \"y_pred\": y_train_pred}, index=y_train.index\n",
        ")\n",
        "fig = px.line(df_predictions, labels={\"value\": \"P2\"})\n",
        "fig.show()"
      ],
      "metadata": {
        "id": "KUfbSGtnjZkB"
      },
      "execution_count": null,
      "outputs": []
    },
    {
      "cell_type": "markdown",
      "source": [
        "<font size=\"+1\">Practice</font>\n",
        "\n",
        "Try it yourself! Create a line plot that compares the `y_prac_train` and `y_prac_pred` values."
      ],
      "metadata": {
        "id": "CYFk0PRwjcCl"
      }
    },
    {
      "cell_type": "code",
      "source": [],
      "metadata": {
        "id": "ao66lnnljegY"
      },
      "execution_count": null,
      "outputs": []
    },
    {
      "cell_type": "markdown",
      "source": [
        "# ARCH and GARCH Models\n",
        "\n",
        "**ARCH** stands for autoregressive conditionally heteroscedastic, which models the variance of a time series. **ARCH** model assumes variance at time $t$ depends on the **past squared observations**. A **GARCH** (generalized autoregressive conditionally heteroscedastic) model uses values of the **past squared observations** and **past variances** to model the variance at time $t$. **ARCH** and **GARCH** models are widely used in finance and econometric time series analysis. For more details, check out these YouTube videos. "
      ],
      "metadata": {
        "id": "JioQ6vnljfMM"
      }
    },
    {
      "cell_type": "code",
      "source": [
        "YouTubeVideo(\"Li95a2biFCU\")"
      ],
      "metadata": {
        "id": "PGB361J3jjvl"
      },
      "execution_count": null,
      "outputs": []
    },
    {
      "cell_type": "code",
      "source": [
        "YouTubeVideo(\"inoBpq1UEn4\")"
      ],
      "metadata": {
        "id": "dUuJwtzJjmn5"
      },
      "execution_count": null,
      "outputs": []
    },
    {
      "cell_type": "markdown",
      "source": [
        "Let's see an example of using **GARCH** model in forecasting Apple stock price volatility. We first import the data."
      ],
      "metadata": {
        "id": "3VfbT_LjjoOY"
      }
    },
    {
      "cell_type": "code",
      "source": [
        "df = pd.read_csv(\"./data/AAPL.csv\", parse_dates=[\"date\"], index_col=\"date\")\n",
        "\n",
        "print(\"df shape:\", df.shape)\n",
        "df.head()"
      ],
      "metadata": {
        "id": "9cM8XPOwjqc8"
      },
      "execution_count": null,
      "outputs": []
    },
    {
      "cell_type": "markdown",
      "source": [
        "The dataset range from 1999 to 2022. For simplicity, we only take 5 years of data."
      ],
      "metadata": {
        "id": "7SVyOvEIjr90"
      }
    },
    {
      "cell_type": "code",
      "source": [
        "df = df[\"2015-10-13\":]\n",
        "df.shape"
      ],
      "metadata": {
        "id": "8XKGswHxjusc"
      },
      "execution_count": null,
      "outputs": []
    },
    {
      "cell_type": "markdown",
      "source": [
        "## Calculating Returns\n",
        "The next step is to calculate the volatility of the stock close prices. Here we can use the `pct_change` function from pandas to calculate the daily percentage change, then multiply the result by 100 to get the returns:"
      ],
      "metadata": {
        "id": "xAHHJKMejyNo"
      }
    },
    {
      "cell_type": "code",
      "source": [
        "df.sort_index(ascending=True, inplace=True)\n",
        "df[\"return\"] = df[\"close\"].pct_change() * 100\n",
        "df.head()"
      ],
      "metadata": {
        "id": "2Wsm0YLLj0_c"
      },
      "execution_count": null,
      "outputs": []
    },
    {
      "cell_type": "markdown",
      "source": [
        "We can then take out the return column as our training data. Note the first observation is missing since there is no past value to observe. We need to drop it:"
      ],
      "metadata": {
        "id": "bg191IfFj2nh"
      }
    },
    {
      "cell_type": "code",
      "source": [
        "AAPL_return = df[\"return\"].dropna()\n",
        "AAPL_return.head()"
      ],
      "metadata": {
        "id": "CF9m6u-cj4eU"
      },
      "execution_count": null,
      "outputs": []
    },
    {
      "cell_type": "markdown",
      "source": [
        "We can check the histogram to see the distribution of the returns over the past five years:"
      ],
      "metadata": {
        "id": "9ZLkIp5gj56N"
      }
    },
    {
      "cell_type": "code",
      "source": [
        "plt.hist(AAPL_return, bins=50)\n",
        "\n",
        "plt.xlabel(\"Returns\")\n",
        "plt.ylabel(\"Frequency [count]\")\n",
        "\n",
        "# Add title\n",
        "plt.title(\"Distribution of AAPL Daily Returns\");"
      ],
      "metadata": {
        "id": "qDLKEXSJj7p0"
      },
      "execution_count": null,
      "outputs": []
    },
    {
      "cell_type": "markdown",
      "source": [
        "There's a negative outlier in this date range, with the `idxmin` function, we find out it was in 31 August 2020. The stock price has a huge drop due to a [stock split](https://www.cnbc.com/2020/08/31/history-of-apple-stock-splits-says-dont-rush-in-to-buy-cheaper-shares.html)."
      ],
      "metadata": {
        "id": "aqQJZc4oj94w"
      }
    },
    {
      "cell_type": "code",
      "source": [
        "AAPL_return.idxmin(), AAPL_return.min()"
      ],
      "metadata": {
        "id": "TZtsdd-LkBi8"
      },
      "execution_count": null,
      "outputs": []
    },
    {
      "cell_type": "markdown",
      "source": [
        "We can also check the standard deviation of the whole dataset with the pandas `std()` function:"
      ],
      "metadata": {
        "id": "2UFBcxt6kDbw"
      }
    },
    {
      "cell_type": "code",
      "source": [
        "AAPL_return.std()"
      ],
      "metadata": {
        "id": "nO635AHJkIf9"
      },
      "execution_count": null,
      "outputs": []
    },
    {
      "cell_type": "markdown",
      "source": [
        "To see the statistic more clearly, we can use some time series plots. In addition to the Apple stock price return plot, we can also plot rolling volatility of the return to smooth out the noise, and see how return and volatility are associated with each other. First we can calculate a 50-day rolling standard deviation series for Apple stock price return:"
      ],
      "metadata": {
        "id": "lXpK8JxckGlf"
      }
    },
    {
      "cell_type": "code",
      "source": [
        "AAPL_return_rolling_50d_volatility = AAPL_return.rolling(window=50).std().dropna()\n",
        "AAPL_return_rolling_50d_volatility.head()"
      ],
      "metadata": {
        "id": "VLEylnxikOXx"
      },
      "execution_count": null,
      "outputs": []
    },
    {
      "cell_type": "markdown",
      "source": [
        "We can plot these two series:"
      ],
      "metadata": {
        "id": "CS50M8TOkQps"
      }
    },
    {
      "cell_type": "code",
      "source": [
        "fig, ax = plt.subplots(figsize=(15, 6))\n",
        "\n",
        "AAPL_return.plot(ax=ax, label=\"daily return\")\n",
        "\n",
        "# Plot\n",
        "AAPL_return_rolling_50d_volatility.plot(\n",
        "    ax=ax, label=\"50d rolling volatility\", linewidth=3\n",
        ")\n",
        "\n",
        "# Add axis labels\n",
        "plt.xlabel(\"Date\")\n",
        "plt.ylabel(\"Return\")\n",
        "\n",
        "\n",
        "plt.legend();"
      ],
      "metadata": {
        "id": "GxapR6VekSx5"
      },
      "execution_count": null,
      "outputs": []
    },
    {
      "cell_type": "markdown",
      "source": [
        "Here we can see that volatility goes up when the returns change drastically up or down. For instance, when return dropped enormously in 2020 August, volatility also increased a lot. However, this plot reveals a problem. We want to use returns to see if high volatility on one day is associated with high volatility on the following day. But high volatility is caused by large changes in returns, which can be either positive or negative. How can we assess negative and positive numbers together without them canceling each other out? The common solution used in building ARCH or GARCH models are to square the returns. Let's plot the squared returns:"
      ],
      "metadata": {
        "id": "7x0pgb7SkU-l"
      }
    },
    {
      "cell_type": "code",
      "source": [
        "fig, ax = plt.subplots(figsize=(15, 6))\n",
        "\n",
        "# Plot squared returns\n",
        "(AAPL_return**2).plot(ax=ax, label=\"daily return\")\n",
        "\n",
        "# Add axis labels\n",
        "plt.xlabel(\"date\")\n",
        "plt.ylabel(\"Squared Returns\");"
      ],
      "metadata": {
        "id": "WaxtR9aekXFJ"
      },
      "execution_count": null,
      "outputs": []
    },
    {
      "cell_type": "markdown",
      "source": [
        " Now we it much easier to see groups high and low volatility and build a GARCH model. To build a GARCH model, we need to figure out both the `p` and `q` parameters. The `p` parameter is handling correlations at prior time steps and the `q` parameter deals with prior variances, like shocks. It also uses the notion of lag. To see how many lags we should have in our model, we should create an ACF and PACF plot — but using the squared returns. "
      ],
      "metadata": {
        "id": "RzIc9qSbkaXS"
      }
    },
    {
      "cell_type": "code",
      "source": [
        "fig, ax = plt.subplots(figsize=(15, 6))\n",
        "\n",
        "# Create ACF of squared returns\n",
        "plot_acf(AAPL_return**2, ax=ax)\n",
        "\n",
        "# Add axis labels\n",
        "plt.xlabel(\"Lag [days]\")\n",
        "plt.ylabel(\"Correlation Coefficient\");"
      ],
      "metadata": {
        "id": "N8soMtqLkbKD"
      },
      "execution_count": null,
      "outputs": []
    },
    {
      "cell_type": "code",
      "source": [
        "fig, ax = plt.subplots(figsize=(15, 6))\n",
        "\n",
        "# Create PACF of squared returns\n",
        "plot_pacf(AAPL_return**2, ax=ax)\n",
        "\n",
        "# Add axis labels\n",
        "plt.xlabel(\"Lag [days]\")\n",
        "plt.ylabel(\"Correlation Coefficient\");"
      ],
      "metadata": {
        "id": "JxEOpk7Kkdzd"
      },
      "execution_count": null,
      "outputs": []
    },
    {
      "cell_type": "markdown",
      "source": [
        "Both the ACF and PACF graph show one lag is enough to build the model.\n",
        "\n",
        "## Building the Model\n",
        "\n"
      ],
      "metadata": {
        "id": "Dl0cGzoekfke"
      }
    },
    {
      "cell_type": "code",
      "source": [
        "# Build and train model\n",
        "model = arch_model(AAPL_return, p=1, q=1, rescale=False).fit(disp=0)\n",
        "\n",
        "print(\"model type:\", type(model))\n",
        "\n",
        "# Show model summary\n",
        "model.summary()"
      ],
      "metadata": {
        "id": "iNcyilDukjXt"
      },
      "execution_count": null,
      "outputs": []
    },
    {
      "cell_type": "markdown",
      "source": [
        "## Common Metrics\n",
        "The model summary provides a lot of information about the model, like the trained parameters, model performance, etc. **AIC** and **BIC** are important measurements for model performance. **AIC** stands for Akaike Information Criterion, it measures the goodness of fit of any estimated statistical model. **BIC** is Bayesian Information Criteria that selects model from a finite set of models. When fitting models, it is possible to increase model performance by adding more parameters, which would also result in overfitting. The BIC resolves this problem by introducing a penalty term for the number of parameters in the model. The penalty term is larger in BIC than in AIC. Though BIC is always higher than AIC, lower the value of these two measures, better the model."
      ],
      "metadata": {
        "id": "CT2mwlqQklpY"
      }
    },
    {
      "cell_type": "markdown",
      "source": [
        "## Standardized Residuals\n",
        "After fitting the model with the data, we can get also get the **residuals** to see how the model performs. The residual at time $t$ is the observed return at time $t$ minus the model's estimated mean return at time $t$. For other models that model observations directly, like stock prices, the assumptions are the residuals are the noises that follow a normal distribution. In GARCH model, since we are model returns, which is the variance of the stock prices, the residuals of the variance will not follow a normal distribution. So we need to use **standardized residuals** instead of residuals to check the normality. Standardized residual at time $t$ is the residual at time $t$ divided by the square root of the model estimated variance at time $t$. Let's check the plot of the standardized residuals across the time series:"
      ],
      "metadata": {
        "id": "aq7mmOwIknq-"
      }
    },
    {
      "cell_type": "code",
      "source": [
        "fig, ax = plt.subplots(figsize=(15, 6))\n",
        "\n",
        "# Plot standardized residuals\n",
        "model.std_resid.plot(ax=ax, label=\"Standardized Residuals\")\n",
        "\n",
        "# Add axis labels\n",
        "plt.xlabel(\"Date\")\n",
        "plt.ylabel(\"Value\")\n",
        "\n",
        "# Add legend\n",
        "plt.legend();"
      ],
      "metadata": {
        "id": "w9CIxZsDkuyc"
      },
      "execution_count": null,
      "outputs": []
    },
    {
      "cell_type": "markdown",
      "source": [
        "The standardized residuals are moving around 0 except for the outlier events from 2020 August. Let's check the normality by the histogram: "
      ],
      "metadata": {
        "id": "t9s5s_z8kxYp"
      }
    },
    {
      "cell_type": "code",
      "source": [
        "# Create histogram of standardized residuals\n",
        "plt.hist(model.std_resid, bins=50)\n",
        "\n",
        "# Add axis labels\n",
        "plt.xlabel(\"Standardized Residual\")\n",
        "plt.ylabel(\"Frequency [count]\")\n",
        "\n",
        "# Add title\n",
        "plt.title(\"Distribution of Standardized Residuals\");"
      ],
      "metadata": {
        "id": "NwxNkqc6kyNd"
      },
      "execution_count": null,
      "outputs": []
    },
    {
      "cell_type": "markdown",
      "source": [
        "If we exclude the outlier, the other standardized residuals do follow a normal distribution with mean 0.\n",
        "## Evaluation\n",
        "\n",
        "We can further evaluate the model by comparing its forecast with a subset of the observed returns to see whether the model has successfully captured the volatility. We can first check the model conditional volatility in its confidence interval throughout the dataset:"
      ],
      "metadata": {
        "id": "ErfqeI1Vkz6F"
      }
    },
    {
      "cell_type": "code",
      "source": [
        "fig, ax = plt.subplots(figsize=(15, 6))\n",
        "\n",
        "# Plot `AAPL_return`\n",
        "AAPL_return.plot(ax=ax)\n",
        "\n",
        "# Plot conditional volatility * 2\n",
        "(2 * model.conditional_volatility).plot(\n",
        "    ax=ax, color=\"C1\", label=\"2 SD Conditional Volatility\"\n",
        ")\n",
        "\n",
        "\n",
        "# Plot conditional volatility * -2\n",
        "(-2 * model.conditional_volatility.rename(\"\")).plot(ax=ax, color=\"C1\")\n",
        "\n",
        "\n",
        "# Add axis labels\n",
        "plt.xlabel(\"Date\")\n",
        "plt.ylabel(\"Daily Returns\")\n",
        "\n",
        "# Add legend\n",
        "plt.legend();"
      ],
      "metadata": {
        "id": "YegflH3Vk4AF"
      },
      "execution_count": null,
      "outputs": []
    },
    {
      "cell_type": "markdown",
      "source": [
        "We can then select the test set of the data and do a walk-forward validation on the GARCH model:"
      ],
      "metadata": {
        "id": "yJNGF_Lsk7I0"
      }
    },
    {
      "cell_type": "code",
      "source": [
        "# Create empty list to hold predictions\n",
        "predictions = []\n",
        "\n",
        "# Calculate size of test data (20%)\n",
        "test_size = int(len(AAPL_return) * 0.2)\n",
        "\n",
        "# Walk forward\n",
        "for i in range(test_size):\n",
        "    # Create test data\n",
        "    y_train = AAPL_return.iloc[: -(test_size - i)]\n",
        "\n",
        "    # Train model\n",
        "    model = arch_model(y_train, p=1, q=1, rescale=False).fit(disp=0)\n",
        "\n",
        "    # Generate next prediction (volatility, not variance)\n",
        "\n",
        "    next_pred = model.forecast(horizon=1, reindex=False).variance.values[0][0] ** 0.5\n",
        "\n",
        "    # Append prediction to list\n",
        "    predictions.append(next_pred)\n",
        "\n",
        "# Create Series from predictions list\n",
        "y_test_wfv = pd.Series(predictions, index=AAPL_return.tail(test_size).index)\n",
        "\n",
        "print(\"y_test_wfv type:\", type(y_test_wfv))\n",
        "print(\"y_test_wfv shape:\", y_test_wfv.shape)\n",
        "y_test_wfv.head()"
      ],
      "metadata": {
        "id": "k4P6Lqhek70C"
      },
      "execution_count": null,
      "outputs": []
    },
    {
      "cell_type": "markdown",
      "source": [
        "We can plot the predicted volatility versus return in this test set, and see the model has captured most of the variance here:"
      ],
      "metadata": {
        "id": "oqPafwRJk9_N"
      }
    },
    {
      "cell_type": "code",
      "source": [
        "fig, ax = plt.subplots(figsize=(15, 6))\n",
        "\n",
        "# Plot returns for test data\n",
        "AAPL_return.tail(test_size).plot(ax=ax, label=\"AAPL return\")\n",
        "\n",
        "# Plot volatility predictions * 2\n",
        "(2 * y_test_wfv).plot(ax=ax, c=\"C1\", label=\"2 SD Predicted Volatility\")\n",
        "\n",
        "# Plot volatility predictions * -2\n",
        "(-2 * y_test_wfv).plot(ax=ax, c=\"C1\")\n",
        "\n",
        "# Label axes\n",
        "plt.xlabel(\"Date\")\n",
        "plt.ylabel(\"Return\")\n",
        "\n",
        "# Add legend\n",
        "plt.legend();"
      ],
      "metadata": {
        "id": "h6jbogDOlBXx"
      },
      "execution_count": null,
      "outputs": []
    },
    {
      "cell_type": "markdown",
      "source": [
        "## Forecasting\n",
        "The last step is to make the forecasts with our trained model. Let's make a one-day forecast first to see how GARCH model forecasting works:"
      ],
      "metadata": {
        "id": "o5e93qjxlDNh"
      }
    },
    {
      "cell_type": "code",
      "source": [
        "one_day_forecast = model.forecast(horizon=1, reindex=False).variance\n",
        "\n",
        "print(\"one_day_forecast type:\", type(one_day_forecast))\n",
        "one_day_forecast"
      ],
      "metadata": {
        "id": "JvIFDRS0lHCZ"
      },
      "execution_count": null,
      "outputs": []
    },
    {
      "cell_type": "markdown",
      "source": [
        "There are two things we need to keep in mind here. First, our model forecast shows the predicted variance, not the standard deviation / volatility. So we'll need to take the square root of the value. Second, the prediction's index is in the format of `\"h.1\"` as the next date of the last training data date. It's not in the form of DatetimeIndex that we desire. So we need to format the forecasts to be more readable.\n",
        "\n",
        "We first generate 5 days predictions with our trained GARCH model:"
      ],
      "metadata": {
        "id": "0LHDj9IDlI41"
      }
    },
    {
      "cell_type": "code",
      "source": [
        "# Generate 5-day volatility forecast\n",
        "prediction = model.forecast(horizon=5, reindex=False).variance ** 0.5\n",
        "\n",
        "# Calculate forecast start date\n",
        "start = prediction.index[0] + pd.DateOffset(days=1)\n",
        "\n",
        "# Create date range\n",
        "prediction_dates = pd.bdate_range(start=start, periods=prediction.shape[1])\n",
        "\n",
        "# Create prediction index labels, ISO 8601 format\n",
        "prediction_index = [d.isoformat() for d in prediction_dates]\n",
        "\n",
        "print(\"prediction_index type:\", type(prediction_index))\n",
        "print(\"prediction_index len:\", len(prediction_index))\n",
        "prediction_index[:3]"
      ],
      "metadata": {
        "id": "R0ExSZGflNZa"
      },
      "execution_count": null,
      "outputs": []
    },
    {
      "cell_type": "markdown",
      "source": [
        "Then we define a function to clean the predictions to be more readable:"
      ],
      "metadata": {
        "id": "3QxihAUklPKF"
      }
    },
    {
      "cell_type": "code",
      "source": [
        "# Take the square root of the model forecasts\n",
        "data = prediction.values.flatten() ** 0.5\n",
        "\n",
        "# Format the forecasts with the correct date\n",
        "prediction_formatted = pd.Series(data, index=prediction_index)\n",
        "\n",
        "# Show the results\n",
        "prediction_formatted.to_dict()"
      ],
      "metadata": {
        "id": "1b3FRM2JlR36"
      },
      "execution_count": null,
      "outputs": []
    },
    {
      "cell_type": "markdown",
      "source": [
        "# References & Further Reading\n",
        "\n",
        "- [More on ARMA models](https://365datascience.com/tutorials/time-series-analysis-tutorials/arma-model/)\n",
        "- [Even more in ARMA models](https://machinelearningmastery.com/arima-for-time-series-forecasting-with-python/)\n",
        "- [Information on p and q parameters](https://machinelearningmastery.com/arima-for-time-series-forecasting-with-python/)\n",
        "- [A primer on autoregression](https://machinelearningmastery.com/autoregression-models-time-series-forecasting-python/)\n",
        "- [More information on ACF plots](https://www.statisticshowto.com/correlogram/#:~:text=A%20correlogram%20(also%20called%20Auto,a%20subsequent%20point%20in%20time.)\n",
        "- [A primer on ACF and PACF](https://machinelearningmastery.com/gentle-introduction-autocorrelation-partial-autocorrelation/)\n",
        "- [Background on residuals](https://www.statisticshowto.com/residual/)\n",
        "- [More on walk-forward validation](https://www.tutorialspoint.com/time_series/time_series_walk_forward_validation.htm)\n",
        "- [Reading on parameters and hyperparameters](https://machinelearningmastery.com/difference-between-a-parameter-and-a-hyperparameter/)"
      ],
      "metadata": {
        "id": "u_3hov4JlSdd"
      }
    }
  ]
}